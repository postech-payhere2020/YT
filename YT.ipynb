{
 "cells": [
  {
   "cell_type": "markdown",
   "metadata": {},
   "source": [
    "# POSTECH 페이히어 프로젝트\n",
    "## DB 만드는 법\n",
    "0. 아래 _public_key=''에 자신의 public key 입력\n",
    "1. https://developer.codef.io/products 에서 원하는 메뉴 접속\n",
    "2. Endpoint 뒤에 (예시) /v1/kr/public/nt/hometax-certificate/status 복사\n",
    "3. 오른쪽input python code 복사해서 (input 값에 따라 sandbox는 변화는 없지만)\n",
    "4. 07_product/main.py 코드 가서 endpoint 뒤에 꺼랑 parameter 넣어주면 결과 나옴\n",
    "5. 결과중에 result는 data 가 output\n",
    "\n",
    "## SQL 쓰는법\n",
    "1. 각 API당 사용법이 조금 다를 수 있음, 각각 문제 아래 SQLITE QUERY를 참조"
   ]
  },
  {
   "cell_type": "code",
   "execution_count": 1,
   "metadata": {},
   "outputs": [],
   "source": [
    "import sqlite3\n",
    "import pandas as pd\n",
    "from pandas import Series, DataFrame"
   ]
  },
  {
   "cell_type": "code",
   "execution_count": 2,
   "metadata": {},
   "outputs": [],
   "source": [
    "_public_key = "
   ]
  },
  {
   "cell_type": "code",
   "execution_count": 3,
   "metadata": {},
   "outputs": [],
   "source": [
    "#conn.close()"
   ]
  },
  {
   "cell_type": "code",
   "execution_count": null,
   "metadata": {},
   "outputs": [],
   "source": []
  },
  {
   "cell_type": "markdown",
   "metadata": {},
   "source": [
    "## 08. 카드>여신금융협회>입금내역 API\n",
    "https://developer.codef.io/products/card/each/c/deposit"
   ]
  },
  {
   "cell_type": "code",
   "execution_count": 4,
   "metadata": {
    "scrolled": true
   },
   "outputs": [
    {
     "name": "stdout",
     "output_type": "stream",
     "text": [
      "paramter: {'organization': '0323', 'id': '로그인 아이디', 'password': 'RSA암호화된 비밀번호', 'startDate': '20190701', 'endDate': '20190731', 'memberStoreGroup': '(주)**'} \n",
      "\n",
      "result: {\"result\": {\"code\": \"CF-00000\", \"extraMessage\": \"\", \"message\": \"성공\", \"transactionId\": \"2ecf8aa963ce4d48bd4b9d25ee39f2e7\"}, \"data\": {\"commMemberStoreGroup\": \"(주)**\", \"resDepositDate\": \"20190705\", \"resCardCompany\": \"**카드\", \"resMemberStoreNo\": \"1000648556\", \"resBankName\": \"**은행\", \"resPaymentAccount\": \"10000*********\", \"resSalesCount\": \"1\", \"resSalesAmount\": \"396000\", \"resSuspenseAmount\": \"0\", \"resOtherDeposit\": \"0\", \"resAccountIn\": \"389664\", \"commStartDate\": \"20190701\", \"commEndDate\": \"20190731\"}} \n",
      "\n",
      "data \": {\"commMemberStoreGroup\": \"(주)**\", \"resDepositDate\": \"20190705\", \"resCardCompany\": \"**카드\", \"resMemberStoreNo\": \"1000648556\", \"resBankName\": \"**은행\", \"resPaymentAccount\": \"10000*********\", \"resSalesCount\": \"1\", \"resSalesAmount\": \"396000\", \"resSuspenseAmount\": \"0\", \"resOtherDeposit\": \"0\", \"resAccountIn\": \"389664\", \"commStartDate\": \"20190701\", \"commEndDate\": \"20190731\"}} \n",
      "\n",
      "DB:  {'organization': '0323', 'id': '로그인 아이디', 'password': 'RSA암호화된 비밀번호', 'startDate': '20190701', 'endDate': '20190731', 'memberStoreGroup': '(주)**', 'commMemberStoreGroup': '(주)**', 'resDepositDate': '20190705', 'resCardCompany': '**카드', 'resMemberStoreNo': '1000648556', 'resBankName': '**은행', 'resPaymentAccount': '10000*********', 'resSalesCount': '1', 'resSalesAmount': '396000', 'resSuspenseAmount': '0', 'resOtherDeposit': '0', 'resAccountIn': '389664', 'commStartDate': '20190701', 'commEndDate': '20190731'}\n"
     ]
    }
   ],
   "source": [
    "%run 07_product/08_CFA_deposit.py -- _public_key "
   ]
  },
  {
   "cell_type": "code",
   "execution_count": null,
   "metadata": {},
   "outputs": [],
   "source": []
  },
  {
   "cell_type": "code",
   "execution_count": 5,
   "metadata": {},
   "outputs": [
    {
     "name": "stdout",
     "output_type": "stream",
     "text": [
      "(0, '0323', '로그인 아이디', 'RSA암호화된 비밀번호', '20190701', '20190731', '(주)**', '(주)**', '20190705', '**카드', '1000648556', '**은행', '10000*********', '1', '396000', '0', '0', '389664', '20190701', '20190731')\n"
     ]
    }
   ],
   "source": [
    "##SQLITE QUERY\n",
    "c=conn.cursor()\n",
    "sql8=\"SELECT * FROM CFA_deposit WHERE organization= :organization AND id= :id AND password=:password AND startDate=:startDate and endDate=:endDate AND memberStoreGroup=:memberStoreGroup\"\n",
    "c.execute(sql8, {'organization': '0323', 'id': '로그인 아이디', 'password': 'RSA암호화된 비밀번호', 'startDate': '20190701', 'endDate': '20190731', 'memberStoreGroup': '(주)**'}) #입력값\n",
    "\n",
    "for row in c.fetchall():\n",
    "    print(row)"
   ]
  },
  {
   "cell_type": "markdown",
   "metadata": {},
   "source": [
    "## 09. 카드>여신금융협회>매입내역 API\n",
    "hierarchical data -> DB 여러 개 만들어야함\n",
    "https://developer.codef.io/products/card/each/c/purchase"
   ]
  },
  {
   "cell_type": "code",
   "execution_count": 6,
   "metadata": {
    "scrolled": false
   },
   "outputs": [
    {
     "name": "stdout",
     "output_type": "stream",
     "text": [
      "paramter: {'organization': '0323', 'id': '로그인 아이디', 'password': 'RSA암호화된 비밀번호', 'startDate': '20190701', 'endDate': '20190731', 'memberStoreGroup': '(주)**'} \n",
      "\n",
      "result: {\"result\": {\"code\": \"CF-00000\", \"extraMessage\": \"\", \"message\": \"성공\", \"transactionId\": \"446054cc5dba4a5296b48415880c7aa4\"}, \"data\": {\"commMemberStoreGroup\": \"(주)**\", \"resPurchaseHistoryList\": [{\"resPurchaseDate\": \"20190703\", \"resTotalAmount\": \"396000\", \"resTotalCount\": \"1\", \"resToBePaidTotAmt\": \"0\", \"resPurchaseDetailList\": [{\"resAccountTrDate\": \"20190703\", \"resPurchaseDate\": \"20190703\", \"resApprovalNo\": \"91048374\", \"resCardCompany\": \"**카드\", \"resCardName\": \"\", \"resCardNo\": \"1***-***-*-****\", \"resCardType\": \"신용\", \"resPurchaseAmount\": \"396000\", \"resFranchiseFee\": \"\", \"resPointFee\": \"0\", \"resEtcFee\": \"0\", \"resFee\": \"\", \"resPaidAmount\": \"389664\", \"resToBePaidDate\": \"20190705\", \"resMemberStoreCorpNo\": \"\"}]}], \"commStartDate\": \"20190701\", \"commEndDate\": \"20190731\"}} \n",
      "\n"
     ]
    }
   ],
   "source": [
    "%run 07_product/09_CFA_purchase.py -- _public_key "
   ]
  },
  {
   "cell_type": "code",
   "execution_count": 7,
   "metadata": {},
   "outputs": [],
   "source": [
    "response1={'organization': '0323', 'id': '로그인 아이디', 'password': 'RSA암호화된 비밀번호', 'startDate': '20190701', 'endDate': '20190731', 'memberStoreGroup': '(주)**',\"commMemberStoreGroup\": \"(주)**\", \"resPurchaseHistoryList\": \"20190703\", \"commStartDate\": \"20190701\", \"commEndDate\": \"20190731\",'resPurchaseHistoryList':\"20190703\"}\n",
    "response2={\"resPurchaseDate\": \"20190703\", \"resTotalAmount\": \"396000\", \"resTotalCount\": \"1\", \"resToBePaidTotAmt\": \"0\", \"resPurchaseDetailList\": \"20190703\"}\n",
    "response3={\"resAccountTrDate\": \"20190703\", \"resPurchaseDate\": \"20190703\", \"resApprovalNo\": \"91048374\", \"resCardCompany\": \"**카드\", \"resCardName\": \"\", \"resCardNo\": \"1***-***-*-****\", \"resCardType\": \"신용\", \"resPurchaseAmount\": \"396000\", \"resFranchiseFee\": \"\", \"resPointFee\": \"0\", \"resEtcFee\": \"0\", \"resFee\": \"\", \"resPaidAmount\": \"389664\", \"resToBePaidDate\": \"20190705\", \"resMemberStoreCorpNo\": \"\"}\n",
    "\n",
    "df_pb9 = DataFrame(response1, index=[0])\n",
    "df_pb9_2=DataFrame(response2, index=[0])\n",
    "df_pb9_3=DataFrame(response3, index=[0])\n",
    "           "
   ]
  },
  {
   "cell_type": "code",
   "execution_count": 8,
   "metadata": {},
   "outputs": [],
   "source": [
    "conn = sqlite3.connect('payhere.db', isolation_level= None)\n",
    "df_pb9.to_sql('cfa_purchase', conn, if_exists='replace')\n",
    "df_pb9_2.to_sql('CFA_purchase2', conn, if_exists='replace')\n",
    "df_pb9_3.to_sql('CFA_purchase3', conn, if_exists='replace')"
   ]
  },
  {
   "cell_type": "code",
   "execution_count": null,
   "metadata": {},
   "outputs": [],
   "source": []
  },
  {
   "cell_type": "code",
   "execution_count": 9,
   "metadata": {
    "scrolled": false
   },
   "outputs": [
    {
     "name": "stdout",
     "output_type": "stream",
     "text": [
      "(0, '0323', '로그인 아이디', 'RSA암호화된 비밀번호', '20190701', '20190731', '(주)**', '(주)**', '20190703', '20190701', '20190731', 0, '20190703', '396000', '1', '0', '20190703', 0, '20190703', '20190703', '91048374', '**카드', '', '1***-***-*-****', '신용', '396000', '', '0', '0', '', '389664', '20190705', '')\n"
     ]
    }
   ],
   "source": [
    "##SQLITE QUERY\n",
    "##각 table의 key가 어떻게 정의되어 있는지 홈페이지에 설명이 제대로 없어서 일단 테이블을 나눠 놓은 뒤 키는 임의로 설정했습니다.\n",
    "##원하시는 값을 KEY로 작성하시면 될 것 같습니다. \n",
    "c=conn.cursor()\n",
    "sql9=\"SELECT * FROM CFA_purchase INNER JOIN CFA_purchase2 ON CFA_purchase.resPurchaseHistoryList = CFA_purchase2.resPurchaseDate INNER JOIN CFA_purchase3 ON CFA_purchase2.resPurchaseDate=resAccountTrDate WHERE organization= :organization AND id= :id AND password=:password AND startDate =:startDate AND endDate= :endDate AND memberStoreGroup= :memberStoreGroup\"\n",
    "c.execute(sql9,{'organization': '0323', 'id': '로그인 아이디', 'password': 'RSA암호화된 비밀번호', 'startDate': '20190701', 'endDate': '20190731', 'memberStoreGroup': '(주)**'}) #입력값\n",
    "\n",
    "for row in c.fetchall():\n",
    "    print(row)"
   ]
  },
  {
   "cell_type": "code",
   "execution_count": null,
   "metadata": {},
   "outputs": [],
   "source": []
  }
 ],
 "metadata": {
  "kernelspec": {
   "display_name": "Python 3",
   "language": "python",
   "name": "python3"
  },
  "language_info": {
   "codemirror_mode": {
    "name": "ipython",
    "version": 3
   },
   "file_extension": ".py",
   "mimetype": "text/x-python",
   "name": "python",
   "nbconvert_exporter": "python",
   "pygments_lexer": "ipython3",
   "version": "3.7.9"
  }
 },
 "nbformat": 4,
 "nbformat_minor": 4
}
